{
 "cells": [
  {
   "cell_type": "markdown",
   "id": "ec1f3fad",
   "metadata": {},
   "source": [
    "## Implementing Markov chain in predicting English Premier League Table (2023-24)"
   ]
  },
  {
   "cell_type": "markdown",
   "id": "2e0b5837",
   "metadata": {},
   "source": [
    "**Objective**\n",
    "- Using the markov chain we intend to predict the final league table of the english premier league of the season 2023-24 predicting the probabilities of a team winning the next match based on the outcome of the current match."
   ]
  },
  {
   "cell_type": "code",
   "execution_count": 1,
   "id": "ca84cad7",
   "metadata": {},
   "outputs": [],
   "source": [
    "import pandas as pd\n",
    "pd.set_option('display.max_columns', None)"
   ]
  },
  {
   "cell_type": "markdown",
   "id": "0a79d27e",
   "metadata": {},
   "source": [
    "### About dataset"
   ]
  },
  {
   "cell_type": "markdown",
   "id": "e27a939d",
   "metadata": {},
   "source": [
    "English Premier League matches from 2023/2024 season, will be updated weekly. Data is scraped from https://fbref.com/en/\n",
    "\n",
    "Unnamed: 0: An index or identifier column.\n",
    "\n",
    "Date: The date when the match took place.\n",
    "\n",
    "Time: The kickoff time of the match.\n",
    "\n",
    "Comp: The competition name, which is the Premier League for the rows displayed.\n",
    "\n",
    "Round: The matchweek or round of the competition.\n",
    "\n",
    "Day: The day of the week the match was played.\n",
    "\n",
    "Venue: Indicates whether the team was playing at home or away.\n",
    "\n",
    "Result: The outcome of the match from the perspective of the team mentioned at the end (W = Win, D = Draw, L = Loss).\n",
    "\n",
    "GF (Goals For): The number of goals scored by the team.\n",
    "\n",
    "GA (Goals Against): The number of goals conceded by the team.\n",
    "\n",
    "Opponent: The name of the opposing team.\n",
    "\n",
    "xG: Expected goals for the team.\n",
    "\n",
    "xGA: Expected goals against the team.\n",
    "\n",
    "Poss: Possession percentage during the match.\n",
    "\n",
    "Attendance: The number of spectators present at the venue.\n",
    "\n",
    "Captain: The name of the team captain.\n",
    "\n",
    "Formation: The team's formation.\n",
    "\n",
    "Referee: The name of the match referee.\n",
    "\n",
    "Match Report: A link or reference to a detailed match report.\n",
    "\n",
    "Notes: Any additional notes about the match.\n",
    "\n",
    "Sh (Shots): Total number of shots taken by the team.\n",
    "\n",
    "SoT (Shots on Target): Number of shots on target.\n",
    "\n",
    "Dist: Average distance (likely in meters) from which shots were taken.\n",
    "\n",
    "FK: Number of free kicks taken.\n",
    "\n",
    "PK (Penalty Kicks): Number of penalty kicks scored.\n",
    "\n",
    "PKatt (Penalty Kicks Attempted): Number of penalty kicks attempted.\n",
    "\n",
    "Season: The season year.\n",
    "\n",
    "Team: The team the data row is about."
   ]
  },
  {
   "cell_type": "code",
   "execution_count": 2,
   "id": "19411f8d",
   "metadata": {},
   "outputs": [],
   "source": [
    "df = pd.read_csv('matches.csv')"
   ]
  },
  {
   "cell_type": "code",
   "execution_count": 3,
   "id": "a7a20469",
   "metadata": {},
   "outputs": [
    {
     "data": {
      "text/plain": [
       "Index(['Unnamed: 0', 'Date', 'Time', 'Comp', 'Round', 'Day', 'Venue', 'Result',\n",
       "       'GF', 'GA', 'Opponent', 'xG', 'xGA', 'Poss', 'Attendance', 'Captain',\n",
       "       'Formation', 'Referee', 'Match Report', 'Notes', 'Sh', 'SoT', 'Dist',\n",
       "       'FK', 'PK', 'PKatt', 'Season', 'Team'],\n",
       "      dtype='object')"
      ]
     },
     "execution_count": 3,
     "metadata": {},
     "output_type": "execute_result"
    }
   ],
   "source": [
    "df.columns"
   ]
  },
  {
   "cell_type": "markdown",
   "id": "1b18d1f4",
   "metadata": {},
   "source": [
    "### Removing unnecssary columns"
   ]
  },
  {
   "cell_type": "code",
   "execution_count": 4,
   "id": "21f16266",
   "metadata": {},
   "outputs": [],
   "source": [
    "del_cols = ['Unnamed: 0', 'Time', 'Comp', 'Day', 'Match Report', 'Notes', 'Referee', 'Attendance']\n",
    "df.drop(del_cols, axis=1, inplace=True)"
   ]
  },
  {
   "cell_type": "markdown",
   "id": "3aac6286",
   "metadata": {},
   "source": [
    "### Renaming the column names"
   ]
  },
  {
   "cell_type": "code",
   "execution_count": 5,
   "id": "98199ae4",
   "metadata": {},
   "outputs": [],
   "source": [
    "df = df.rename(columns={'Team':'home_team', 'Opponent':'away_team'})\n",
    "\n",
    "# changing the order of columns in the dataset\n",
    "df = df[['Date', 'Round', 'Venue', 'home_team', 'away_team',\n",
    "         'GF', 'GA', 'Result', 'xG', 'xGA', 'Poss', 'Captain','Formation', \n",
    "          'Sh', 'SoT', 'Dist','FK', 'PK', 'PKatt', 'Season']]"
   ]
  },
  {
   "cell_type": "markdown",
   "id": "e976afcb",
   "metadata": {},
   "source": [
    "### Getting the data in ascending order of time"
   ]
  },
  {
   "cell_type": "code",
   "execution_count": 6,
   "id": "9e151d6b",
   "metadata": {},
   "outputs": [],
   "source": [
    "# convert date to datetime\n",
    "df['Date'] = pd.to_datetime(df['Date'])"
   ]
  },
  {
   "cell_type": "code",
   "execution_count": 7,
   "id": "f3892c59",
   "metadata": {},
   "outputs": [],
   "source": [
    "# ascending order\n",
    "df = df.sort_values(by='Date', ascending=True)\n",
    "df = df.reset_index()\n",
    "df = df.drop(['index'], axis=1)"
   ]
  },
  {
   "cell_type": "markdown",
   "id": "13d04fc8",
   "metadata": {},
   "source": [
    "### Subsetting datasets into home and away"
   ]
  },
  {
   "cell_type": "code",
   "execution_count": 8,
   "id": "15e7e19f",
   "metadata": {},
   "outputs": [
    {
     "name": "stdout",
     "output_type": "stream",
     "text": [
      "Home matches: 380 | Away matches: 380\n"
     ]
    }
   ],
   "source": [
    "home = df[df['Venue']=='Home']\n",
    "away = df[df['Venue']!='Home']\n",
    "\n",
    "print(f\"Home matches: {home.shape[0]} | Away matches: {away.shape[0]}\")"
   ]
  },
  {
   "cell_type": "markdown",
   "id": "0553e0de",
   "metadata": {},
   "source": [
    "### Creating new column for previous match outcome"
   ]
  },
  {
   "cell_type": "code",
   "execution_count": 9,
   "id": "47474af3",
   "metadata": {},
   "outputs": [
    {
     "name": "stderr",
     "output_type": "stream",
     "text": [
      "<ipython-input-9-e0043108cc58>:1: SettingWithCopyWarning: \n",
      "A value is trying to be set on a copy of a slice from a DataFrame.\n",
      "Try using .loc[row_indexer,col_indexer] = value instead\n",
      "\n",
      "See the caveats in the documentation: https://pandas.pydata.org/pandas-docs/stable/user_guide/indexing.html#returning-a-view-versus-a-copy\n",
      "  home['Previous_Match_State'] = home.groupby('home_team')['Result'].shift(1)\n"
     ]
    }
   ],
   "source": [
    "home['Previous_Match_State'] = home.groupby('home_team')['Result'].shift(1)\n",
    "\n",
    "# Drop any rows where 'Previous Match State' is NaN (i.e., first match of the team)\n",
    "home = home.dropna(subset=['Previous_Match_State'])"
   ]
  },
  {
   "cell_type": "markdown",
   "id": "57e9cdf9",
   "metadata": {},
   "source": [
    "### Creating a transition matrix for home games"
   ]
  },
  {
   "cell_type": "code",
   "execution_count": 10,
   "id": "03aebf4a",
   "metadata": {},
   "outputs": [],
   "source": [
    "home['Transition'] = home['Previous_Match_State'] + \" -> \" + home['Result']"
   ]
  },
  {
   "cell_type": "code",
   "execution_count": 11,
   "id": "0bba1769",
   "metadata": {},
   "outputs": [],
   "source": [
    "# Step 4: Count Transitions\n",
    "transition_counts = home.groupby(['Previous_Match_State', 'Result']).size().reset_index(name='Count')"
   ]
  },
  {
   "cell_type": "code",
   "execution_count": 12,
   "id": "17e8b3df",
   "metadata": {},
   "outputs": [],
   "source": [
    "# Pivot the DataFrame to create the transition matrix\n",
    "transition_matrix = transition_counts.pivot_table(index='Previous_Match_State', columns='Result', values='Count', fill_value=0)\n",
    "\n",
    "# Normalize to get probabilities\n",
    "transition_matrix = transition_matrix.div(transition_matrix.sum(axis=1), axis=0)"
   ]
  },
  {
   "cell_type": "code",
   "execution_count": 13,
   "id": "7a16d28e",
   "metadata": {},
   "outputs": [
    {
     "data": {
      "text/html": [
       "<div>\n",
       "<style scoped>\n",
       "    .dataframe tbody tr th:only-of-type {\n",
       "        vertical-align: middle;\n",
       "    }\n",
       "\n",
       "    .dataframe tbody tr th {\n",
       "        vertical-align: top;\n",
       "    }\n",
       "\n",
       "    .dataframe thead th {\n",
       "        text-align: right;\n",
       "    }\n",
       "</style>\n",
       "<table border=\"1\" class=\"dataframe\">\n",
       "  <thead>\n",
       "    <tr style=\"text-align: right;\">\n",
       "      <th>Result</th>\n",
       "      <th>D</th>\n",
       "      <th>L</th>\n",
       "      <th>W</th>\n",
       "    </tr>\n",
       "    <tr>\n",
       "      <th>Previous_Match_State</th>\n",
       "      <th></th>\n",
       "      <th></th>\n",
       "      <th></th>\n",
       "    </tr>\n",
       "  </thead>\n",
       "  <tbody>\n",
       "    <tr>\n",
       "      <th>D</th>\n",
       "      <td>0.287500</td>\n",
       "      <td>0.287500</td>\n",
       "      <td>0.425000</td>\n",
       "    </tr>\n",
       "    <tr>\n",
       "      <th>L</th>\n",
       "      <td>0.176991</td>\n",
       "      <td>0.415929</td>\n",
       "      <td>0.407080</td>\n",
       "    </tr>\n",
       "    <tr>\n",
       "      <th>W</th>\n",
       "      <td>0.215569</td>\n",
       "      <td>0.275449</td>\n",
       "      <td>0.508982</td>\n",
       "    </tr>\n",
       "  </tbody>\n",
       "</table>\n",
       "</div>"
      ],
      "text/plain": [
       "Result                       D         L         W\n",
       "Previous_Match_State                              \n",
       "D                     0.287500  0.287500  0.425000\n",
       "L                     0.176991  0.415929  0.407080\n",
       "W                     0.215569  0.275449  0.508982"
      ]
     },
     "execution_count": 13,
     "metadata": {},
     "output_type": "execute_result"
    }
   ],
   "source": [
    "transition_matrix"
   ]
  },
  {
   "cell_type": "markdown",
   "id": "018325c0",
   "metadata": {},
   "source": [
    "This transition matrix tells us that if a **teams previous match** is **drawn** the probability of the \n",
    "- teams next match being a **draw** is 28.7% \n",
    "- teams next match being a **loss** is 28.7%\n",
    "- teams next match being a **win** is 42.5%"
   ]
  },
  {
   "cell_type": "markdown",
   "id": "83d76cb7",
   "metadata": {},
   "source": [
    "### Creating a transition matrix for away games"
   ]
  },
  {
   "cell_type": "code",
   "execution_count": 14,
   "id": "8ff64f58",
   "metadata": {},
   "outputs": [
    {
     "name": "stderr",
     "output_type": "stream",
     "text": [
      "<ipython-input-14-e6352b42d105>:1: SettingWithCopyWarning: \n",
      "A value is trying to be set on a copy of a slice from a DataFrame.\n",
      "Try using .loc[row_indexer,col_indexer] = value instead\n",
      "\n",
      "See the caveats in the documentation: https://pandas.pydata.org/pandas-docs/stable/user_guide/indexing.html#returning-a-view-versus-a-copy\n",
      "  away['Previous_Match_State'] = away.groupby('away_team')['Result'].shift(1)\n"
     ]
    },
    {
     "data": {
      "text/html": [
       "<div>\n",
       "<style scoped>\n",
       "    .dataframe tbody tr th:only-of-type {\n",
       "        vertical-align: middle;\n",
       "    }\n",
       "\n",
       "    .dataframe tbody tr th {\n",
       "        vertical-align: top;\n",
       "    }\n",
       "\n",
       "    .dataframe thead th {\n",
       "        text-align: right;\n",
       "    }\n",
       "</style>\n",
       "<table border=\"1\" class=\"dataframe\">\n",
       "  <thead>\n",
       "    <tr style=\"text-align: right;\">\n",
       "      <th>Result</th>\n",
       "      <th>D</th>\n",
       "      <th>L</th>\n",
       "      <th>W</th>\n",
       "    </tr>\n",
       "    <tr>\n",
       "      <th>Previous_Match_State</th>\n",
       "      <th></th>\n",
       "      <th></th>\n",
       "      <th></th>\n",
       "    </tr>\n",
       "  </thead>\n",
       "  <tbody>\n",
       "    <tr>\n",
       "      <th>D</th>\n",
       "      <td>0.287500</td>\n",
       "      <td>0.425000</td>\n",
       "      <td>0.287500</td>\n",
       "    </tr>\n",
       "    <tr>\n",
       "      <th>L</th>\n",
       "      <td>0.215569</td>\n",
       "      <td>0.508982</td>\n",
       "      <td>0.275449</td>\n",
       "    </tr>\n",
       "    <tr>\n",
       "      <th>W</th>\n",
       "      <td>0.176991</td>\n",
       "      <td>0.407080</td>\n",
       "      <td>0.415929</td>\n",
       "    </tr>\n",
       "  </tbody>\n",
       "</table>\n",
       "</div>"
      ],
      "text/plain": [
       "Result                       D         L         W\n",
       "Previous_Match_State                              \n",
       "D                     0.287500  0.425000  0.287500\n",
       "L                     0.215569  0.508982  0.275449\n",
       "W                     0.176991  0.407080  0.415929"
      ]
     },
     "execution_count": 14,
     "metadata": {},
     "output_type": "execute_result"
    }
   ],
   "source": [
    "away['Previous_Match_State'] = away.groupby('away_team')['Result'].shift(1)\n",
    "\n",
    "# Drop any rows where 'Previous Match State' is NaN (i.e., first match of the team)\n",
    "away = away.dropna(subset=['Previous_Match_State'])\n",
    "\n",
    "away['Transition'] = away['Previous_Match_State'] + \" -> \" + away['Result']\n",
    "\n",
    "# Count Transitions\n",
    "transition_counts = away.groupby(['Previous_Match_State', 'Result']).size().reset_index(name='Count')\n",
    "# Pivot the DataFrame to create the transition matrix\n",
    "transition_matrix = transition_counts.pivot_table(index='Previous_Match_State', columns='Result', values='Count', fill_value=0)\n",
    "\n",
    "# Normalize to get probabilities\n",
    "transition_matrix = transition_matrix.div(transition_matrix.sum(axis=1), axis=0)\n",
    "\n",
    "transition_matrix"
   ]
  },
  {
   "cell_type": "markdown",
   "id": "67d79544",
   "metadata": {},
   "source": [
    "### Creating transition matrix of single team"
   ]
  },
  {
   "cell_type": "code",
   "execution_count": 15,
   "id": "a99cec78",
   "metadata": {},
   "outputs": [
    {
     "data": {
      "text/html": [
       "<div>\n",
       "<style scoped>\n",
       "    .dataframe tbody tr th:only-of-type {\n",
       "        vertical-align: middle;\n",
       "    }\n",
       "\n",
       "    .dataframe tbody tr th {\n",
       "        vertical-align: top;\n",
       "    }\n",
       "\n",
       "    .dataframe thead th {\n",
       "        text-align: right;\n",
       "    }\n",
       "</style>\n",
       "<table border=\"1\" class=\"dataframe\">\n",
       "  <thead>\n",
       "    <tr style=\"text-align: right;\">\n",
       "      <th>Result</th>\n",
       "      <th>D</th>\n",
       "      <th>L</th>\n",
       "      <th>W</th>\n",
       "    </tr>\n",
       "    <tr>\n",
       "      <th>Previous_Match_State</th>\n",
       "      <th></th>\n",
       "      <th></th>\n",
       "      <th></th>\n",
       "    </tr>\n",
       "  </thead>\n",
       "  <tbody>\n",
       "    <tr>\n",
       "      <th>D</th>\n",
       "      <td>0.428571</td>\n",
       "      <td>0.142857</td>\n",
       "      <td>0.428571</td>\n",
       "    </tr>\n",
       "    <tr>\n",
       "      <th>L</th>\n",
       "      <td>0.000000</td>\n",
       "      <td>0.333333</td>\n",
       "      <td>0.666667</td>\n",
       "    </tr>\n",
       "    <tr>\n",
       "      <th>W</th>\n",
       "      <td>0.148148</td>\n",
       "      <td>0.037037</td>\n",
       "      <td>0.814815</td>\n",
       "    </tr>\n",
       "  </tbody>\n",
       "</table>\n",
       "</div>"
      ],
      "text/plain": [
       "Result                       D         L         W\n",
       "Previous_Match_State                              \n",
       "D                     0.428571  0.142857  0.428571\n",
       "L                     0.000000  0.333333  0.666667\n",
       "W                     0.148148  0.037037  0.814815"
      ]
     },
     "execution_count": 15,
     "metadata": {},
     "output_type": "execute_result"
    }
   ],
   "source": [
    "team_name = 'ManchesterCity'\n",
    "team_df = df[(df['home_team'] == team_name)]\n",
    "\n",
    "# Calculate Match States and Transitions\n",
    "\n",
    "# Sort by Date to maintain chronological order\n",
    "team_df = team_df.sort_values(by=['Date'])\n",
    "\n",
    "# Track Previous Match State\n",
    "team_df['Previous_Match_State'] = team_df['Result'].shift(1)\n",
    "\n",
    "# Drop NaN values (first match)\n",
    "team_df = team_df.dropna(subset=['Previous_Match_State'])\n",
    "\n",
    "# Count Transitions\n",
    "transition_counts = team_df.groupby(['Previous_Match_State', 'Result']).size().reset_index(name='Count')\n",
    "\n",
    "# Pivot to create Transition Matrix\n",
    "transition_matrix = transition_counts.pivot_table(index='Previous_Match_State', columns='Result', values='Count', fill_value=0)\n",
    "\n",
    "# Normalize to get probabilities\n",
    "transition_matrix = transition_matrix.div(transition_matrix.sum(axis=1), axis=0)\n",
    "transition_matrix"
   ]
  },
  {
   "cell_type": "markdown",
   "id": "49a7ac2f",
   "metadata": {},
   "source": [
    "This transition matrix tells us that if **citys previous match** is **drawn** the probability of the \n",
    "- citys next match being a **draw** is 42.8% \n",
    "- citys next match being a **loss** is 14.2%\n",
    "- citys next match being a **win** is 42.8%"
   ]
  },
  {
   "cell_type": "markdown",
   "id": "831841e9",
   "metadata": {},
   "source": [
    "### Simulate Remaining Matches"
   ]
  },
  {
   "cell_type": "code",
   "execution_count": 16,
   "id": "9a986f5d",
   "metadata": {
    "scrolled": true
   },
   "outputs": [],
   "source": [
    "import numpy as np\n",
    "import random\n",
    "\n",
    "# Ensure the random seed is set before any random operations\n",
    "random.seed(42)\n",
    "\n",
    "def simulate_match(current_state, transition_matrix):\n",
    "    if current_state in transition_matrix.index:\n",
    "        next_state = np.random.choice(transition_matrix.columns, p=transition_matrix.loc[current_state])\n",
    "        return next_state\n",
    "    else:\n",
    "        return np.random.choice(transition_matrix.columns)\n",
    "\n",
    "# Example simulation for Manchester City\n",
    "current_state = 'W'  # This can be the result of the last known match or a random start\n",
    "remaining_matches = 18  # Example: Number of matches left in the season\n",
    "\n",
    "# Function to update points based on match outcome\n",
    "def update_points(current_state, points):\n",
    "    if current_state == 'W':\n",
    "        points += 3\n",
    "    elif current_state == 'D':\n",
    "        points += 1\n",
    "    return points"
   ]
  },
  {
   "cell_type": "markdown",
   "id": "8c313c83",
   "metadata": {},
   "source": [
    "### Home and away transition matrix"
   ]
  },
  {
   "cell_type": "code",
   "execution_count": 17,
   "id": "a65355b7",
   "metadata": {},
   "outputs": [],
   "source": [
    "random.seed(42)\n",
    "def get_home_transition_matrix(team, home):\n",
    "    # Filter the dataset for a specific team\n",
    "    team_name = team\n",
    "    df = home[home['home_team'] == team_name]\n",
    "\n",
    "    # Sort by Date to maintain chronological order\n",
    "    df = df.sort_values(by=['Date'])\n",
    "\n",
    "    df['Previous_Match_State'] = df.groupby('home_team')['Result'].shift(1)\n",
    "\n",
    "    # Drop any rows where 'Previous Match State' is NaN (i.e., first match of the team)\n",
    "    df = df.dropna(subset=['Previous_Match_State'])\n",
    "    df['Transition'] = df['Previous_Match_State'] + \" -> \" + df['Result']\n",
    "\n",
    "    # Step 4: Count Transitions\n",
    "    transition_counts = df.groupby(['Previous_Match_State', 'Result']).size().reset_index(name='Count')\n",
    "\n",
    "    # Pivot the DataFrame to create the transition matrix\n",
    "    transition_matrix = transition_counts.pivot_table(index='Previous_Match_State', columns='Result', values='Count', fill_value=0)\n",
    "\n",
    "    # Normalize to get probabilities\n",
    "    transition_matrix = transition_matrix.div(transition_matrix.sum(axis=1), axis=0)\n",
    "    \n",
    "#     print(f\"\\nHome Transition Matrix for {team_name}:\\n{transition_matrix}\")    \n",
    "    return transition_matrix\n",
    "    \n",
    "def get_away_transition_matrix(team, away):\n",
    "    # Filter the dataset for a specific team\n",
    "    team_name = team\n",
    "    df = away[away['home_team'] == team_name]\n",
    "\n",
    "    # Sort by Date to maintain chronological order\n",
    "    df = df.sort_values(by=['Date'])\n",
    "\n",
    "    df['Previous_Match_State'] = df.groupby('home_team')['Result'].shift(1)\n",
    "\n",
    "    # Drop any rows where 'Previous Match State' is NaN (i.e., first match of the team)\n",
    "    df = df.dropna(subset=['Previous_Match_State'])\n",
    "    df['Transition'] = df['Previous_Match_State'] + \" -> \" + df['Result']\n",
    "\n",
    "    # Step 4: Count Transitions\n",
    "    transition_counts = df.groupby(['Previous_Match_State', 'Result']).size().reset_index(name='Count')\n",
    "\n",
    "    # Pivot the DataFrame to create the transition matrix\n",
    "    transition_matrix = transition_counts.pivot_table(index='Previous_Match_State', columns='Result', values='Count', fill_value=0)\n",
    "\n",
    "    # Normalize to get probabilities\n",
    "    transition_matrix = transition_matrix.div(transition_matrix.sum(axis=1), axis=0)\n",
    "    \n",
    "#     print(f\"\\nAway Transition Matrix for {team_name}:\\n{transition_matrix}\")    \n",
    "    return transition_matrix"
   ]
  },
  {
   "cell_type": "markdown",
   "id": "d0551c39",
   "metadata": {},
   "source": [
    "### Aggregate Results and Create Final League Table"
   ]
  },
  {
   "cell_type": "code",
   "execution_count": 18,
   "id": "ea98ef8b",
   "metadata": {},
   "outputs": [],
   "source": [
    "random.seed(42)\n",
    "def get_results(team):\n",
    "    home_transition_matrix = get_home_transition_matrix(team, home)  # Assume this is calculated as above\n",
    "    away_transition_matrix = get_away_transition_matrix(team, away)  # Assume this is calculated similarly for away games\n",
    "\n",
    "    # Number of remaining home and away matches\n",
    "    remaining_home_matches = 18\n",
    "    remaining_away_matches = 19\n",
    "\n",
    "    points = 0\n",
    "    current_state = 'W'  # or the last known state\n",
    "\n",
    "    # Simulate remaining home matches\n",
    "    for _ in range(remaining_home_matches):\n",
    "        current_state = simulate_match(current_state, home_transition_matrix)\n",
    "        points = update_points(current_state, points)\n",
    "\n",
    "    # Simulate remaining away matches\n",
    "    current_state = 'W'  # or the last known state\n",
    "    for _ in range(remaining_away_matches):\n",
    "        current_state = simulate_match(current_state, away_transition_matrix)\n",
    "        points = update_points(current_state, points)\n",
    "\n",
    "    # Store the final points for this team\n",
    "#     print(f\"Final Points for {team}: {points}\")\n",
    "    return team, points"
   ]
  },
  {
   "cell_type": "code",
   "execution_count": 19,
   "id": "73a7aa1c",
   "metadata": {},
   "outputs": [
    {
     "data": {
      "text/html": [
       "<div>\n",
       "<style scoped>\n",
       "    .dataframe tbody tr th:only-of-type {\n",
       "        vertical-align: middle;\n",
       "    }\n",
       "\n",
       "    .dataframe tbody tr th {\n",
       "        vertical-align: top;\n",
       "    }\n",
       "\n",
       "    .dataframe thead th {\n",
       "        text-align: right;\n",
       "    }\n",
       "</style>\n",
       "<table border=\"1\" class=\"dataframe\">\n",
       "  <thead>\n",
       "    <tr style=\"text-align: right;\">\n",
       "      <th></th>\n",
       "      <th>Team</th>\n",
       "      <th>MCPoints</th>\n",
       "    </tr>\n",
       "  </thead>\n",
       "  <tbody>\n",
       "    <tr>\n",
       "      <th>0</th>\n",
       "      <td>Arsenal</td>\n",
       "      <td>95</td>\n",
       "    </tr>\n",
       "    <tr>\n",
       "      <th>1</th>\n",
       "      <td>ManchesterCity</td>\n",
       "      <td>88</td>\n",
       "    </tr>\n",
       "    <tr>\n",
       "      <th>2</th>\n",
       "      <td>Liverpool</td>\n",
       "      <td>79</td>\n",
       "    </tr>\n",
       "    <tr>\n",
       "      <th>3</th>\n",
       "      <td>Chelsea</td>\n",
       "      <td>67</td>\n",
       "    </tr>\n",
       "    <tr>\n",
       "      <th>4</th>\n",
       "      <td>TottenhamHotspur</td>\n",
       "      <td>63</td>\n",
       "    </tr>\n",
       "    <tr>\n",
       "      <th>5</th>\n",
       "      <td>AstonVilla</td>\n",
       "      <td>59</td>\n",
       "    </tr>\n",
       "    <tr>\n",
       "      <th>6</th>\n",
       "      <td>NewcastleUnited</td>\n",
       "      <td>54</td>\n",
       "    </tr>\n",
       "    <tr>\n",
       "      <th>7</th>\n",
       "      <td>Fulham</td>\n",
       "      <td>51</td>\n",
       "    </tr>\n",
       "    <tr>\n",
       "      <th>8</th>\n",
       "      <td>Everton</td>\n",
       "      <td>51</td>\n",
       "    </tr>\n",
       "    <tr>\n",
       "      <th>9</th>\n",
       "      <td>WolverhamptonWanderers</td>\n",
       "      <td>50</td>\n",
       "    </tr>\n",
       "    <tr>\n",
       "      <th>10</th>\n",
       "      <td>Bournemouth</td>\n",
       "      <td>47</td>\n",
       "    </tr>\n",
       "    <tr>\n",
       "      <th>11</th>\n",
       "      <td>ManchesterUnited</td>\n",
       "      <td>44</td>\n",
       "    </tr>\n",
       "    <tr>\n",
       "      <th>12</th>\n",
       "      <td>CrystalPalace</td>\n",
       "      <td>43</td>\n",
       "    </tr>\n",
       "    <tr>\n",
       "      <th>13</th>\n",
       "      <td>NottinghamForest</td>\n",
       "      <td>39</td>\n",
       "    </tr>\n",
       "    <tr>\n",
       "      <th>14</th>\n",
       "      <td>WestHamUnited</td>\n",
       "      <td>39</td>\n",
       "    </tr>\n",
       "    <tr>\n",
       "      <th>15</th>\n",
       "      <td>BrightonandHoveAlbion</td>\n",
       "      <td>38</td>\n",
       "    </tr>\n",
       "    <tr>\n",
       "      <th>16</th>\n",
       "      <td>Brentford</td>\n",
       "      <td>26</td>\n",
       "    </tr>\n",
       "    <tr>\n",
       "      <th>17</th>\n",
       "      <td>LutonTown</td>\n",
       "      <td>20</td>\n",
       "    </tr>\n",
       "    <tr>\n",
       "      <th>18</th>\n",
       "      <td>SheffieldUnited</td>\n",
       "      <td>17</td>\n",
       "    </tr>\n",
       "    <tr>\n",
       "      <th>19</th>\n",
       "      <td>Burnley</td>\n",
       "      <td>16</td>\n",
       "    </tr>\n",
       "  </tbody>\n",
       "</table>\n",
       "</div>"
      ],
      "text/plain": [
       "                      Team  MCPoints\n",
       "0                  Arsenal        95\n",
       "1           ManchesterCity        88\n",
       "2                Liverpool        79\n",
       "3                  Chelsea        67\n",
       "4         TottenhamHotspur        63\n",
       "5               AstonVilla        59\n",
       "6          NewcastleUnited        54\n",
       "7                   Fulham        51\n",
       "8                  Everton        51\n",
       "9   WolverhamptonWanderers        50\n",
       "10             Bournemouth        47\n",
       "11        ManchesterUnited        44\n",
       "12           CrystalPalace        43\n",
       "13        NottinghamForest        39\n",
       "14           WestHamUnited        39\n",
       "15   BrightonandHoveAlbion        38\n",
       "16               Brentford        26\n",
       "17               LutonTown        20\n",
       "18         SheffieldUnited        17\n",
       "19                 Burnley        16"
      ]
     },
     "execution_count": 19,
     "metadata": {},
     "output_type": "execute_result"
    }
   ],
   "source": [
    "teams = df.home_team.unique().tolist()\n",
    "\n",
    "# Dictionary to store final points for each team\n",
    "final_points = {team: 0 for team in teams}\n",
    "\n",
    "for team in teams:\n",
    "    random.seed(42)\n",
    "    team, points = get_results(team)\n",
    "    \n",
    "    # Store final points\n",
    "    final_points[team] = points\n",
    "    \n",
    "# Convert the final points dictionary to a DataFrame and rank the teams\n",
    "final_table = pd.DataFrame(list(final_points.items()), columns=['Team', 'MCPoints'])\n",
    "final_table = final_table.sort_values(by='MCPoints', ascending=False).reset_index(drop=True)\n",
    "final_table"
   ]
  },
  {
   "cell_type": "markdown",
   "id": "647d9429",
   "metadata": {},
   "source": [
    "### Get actual points of the season 23-24"
   ]
  },
  {
   "cell_type": "code",
   "execution_count": 20,
   "id": "4f01fa22",
   "metadata": {},
   "outputs": [],
   "source": [
    "points = df.copy()\n",
    "\n",
    "points['points'] = np.where(points['Result']=='W', 3, np.where(points['Result']=='D', 1, 0))\n",
    "\n",
    "# Assuming the points series you have is named `points`\n",
    "points_df = points.groupby('home_team')['points'].sum().reset_index()\n",
    "\n",
    "# Rename the columns for clarity\n",
    "points_df.columns = ['Team', 'EPLPoints']\n",
    "\n",
    "# Merge the actual points with the predicted points\n",
    "final_table = pd.merge(final_table, points_df, on='Team')\n",
    "\n",
    "# Sort the final table based on predicted points or actual points\n",
    "final_table = final_table.sort_values(by='EPLPoints', ascending=False).reset_index(drop=True)\n",
    "\n",
    "final_table = final_table[['Team', 'EPLPoints', 'MCPoints']]"
   ]
  },
  {
   "cell_type": "code",
   "execution_count": 21,
   "id": "5c980524",
   "metadata": {},
   "outputs": [
    {
     "data": {
      "text/html": [
       "<div>\n",
       "<style scoped>\n",
       "    .dataframe tbody tr th:only-of-type {\n",
       "        vertical-align: middle;\n",
       "    }\n",
       "\n",
       "    .dataframe tbody tr th {\n",
       "        vertical-align: top;\n",
       "    }\n",
       "\n",
       "    .dataframe thead th {\n",
       "        text-align: right;\n",
       "    }\n",
       "</style>\n",
       "<table border=\"1\" class=\"dataframe\">\n",
       "  <thead>\n",
       "    <tr style=\"text-align: right;\">\n",
       "      <th></th>\n",
       "      <th>Team</th>\n",
       "      <th>EPLPoints</th>\n",
       "      <th>MCPoints</th>\n",
       "    </tr>\n",
       "  </thead>\n",
       "  <tbody>\n",
       "    <tr>\n",
       "      <th>0</th>\n",
       "      <td>ManchesterCity</td>\n",
       "      <td>91</td>\n",
       "      <td>88</td>\n",
       "    </tr>\n",
       "    <tr>\n",
       "      <th>1</th>\n",
       "      <td>Arsenal</td>\n",
       "      <td>89</td>\n",
       "      <td>95</td>\n",
       "    </tr>\n",
       "    <tr>\n",
       "      <th>2</th>\n",
       "      <td>Liverpool</td>\n",
       "      <td>82</td>\n",
       "      <td>79</td>\n",
       "    </tr>\n",
       "    <tr>\n",
       "      <th>3</th>\n",
       "      <td>AstonVilla</td>\n",
       "      <td>68</td>\n",
       "      <td>59</td>\n",
       "    </tr>\n",
       "    <tr>\n",
       "      <th>4</th>\n",
       "      <td>TottenhamHotspur</td>\n",
       "      <td>66</td>\n",
       "      <td>63</td>\n",
       "    </tr>\n",
       "    <tr>\n",
       "      <th>5</th>\n",
       "      <td>Chelsea</td>\n",
       "      <td>63</td>\n",
       "      <td>67</td>\n",
       "    </tr>\n",
       "    <tr>\n",
       "      <th>6</th>\n",
       "      <td>ManchesterUnited</td>\n",
       "      <td>60</td>\n",
       "      <td>44</td>\n",
       "    </tr>\n",
       "    <tr>\n",
       "      <th>7</th>\n",
       "      <td>NewcastleUnited</td>\n",
       "      <td>60</td>\n",
       "      <td>54</td>\n",
       "    </tr>\n",
       "    <tr>\n",
       "      <th>8</th>\n",
       "      <td>WestHamUnited</td>\n",
       "      <td>52</td>\n",
       "      <td>39</td>\n",
       "    </tr>\n",
       "    <tr>\n",
       "      <th>9</th>\n",
       "      <td>CrystalPalace</td>\n",
       "      <td>49</td>\n",
       "      <td>43</td>\n",
       "    </tr>\n",
       "    <tr>\n",
       "      <th>10</th>\n",
       "      <td>BrightonandHoveAlbion</td>\n",
       "      <td>48</td>\n",
       "      <td>38</td>\n",
       "    </tr>\n",
       "    <tr>\n",
       "      <th>11</th>\n",
       "      <td>Bournemouth</td>\n",
       "      <td>48</td>\n",
       "      <td>47</td>\n",
       "    </tr>\n",
       "    <tr>\n",
       "      <th>12</th>\n",
       "      <td>Everton</td>\n",
       "      <td>48</td>\n",
       "      <td>51</td>\n",
       "    </tr>\n",
       "    <tr>\n",
       "      <th>13</th>\n",
       "      <td>Fulham</td>\n",
       "      <td>47</td>\n",
       "      <td>51</td>\n",
       "    </tr>\n",
       "    <tr>\n",
       "      <th>14</th>\n",
       "      <td>WolverhamptonWanderers</td>\n",
       "      <td>46</td>\n",
       "      <td>50</td>\n",
       "    </tr>\n",
       "    <tr>\n",
       "      <th>15</th>\n",
       "      <td>Brentford</td>\n",
       "      <td>39</td>\n",
       "      <td>26</td>\n",
       "    </tr>\n",
       "    <tr>\n",
       "      <th>16</th>\n",
       "      <td>NottinghamForest</td>\n",
       "      <td>36</td>\n",
       "      <td>39</td>\n",
       "    </tr>\n",
       "    <tr>\n",
       "      <th>17</th>\n",
       "      <td>LutonTown</td>\n",
       "      <td>26</td>\n",
       "      <td>20</td>\n",
       "    </tr>\n",
       "    <tr>\n",
       "      <th>18</th>\n",
       "      <td>Burnley</td>\n",
       "      <td>24</td>\n",
       "      <td>16</td>\n",
       "    </tr>\n",
       "    <tr>\n",
       "      <th>19</th>\n",
       "      <td>SheffieldUnited</td>\n",
       "      <td>16</td>\n",
       "      <td>17</td>\n",
       "    </tr>\n",
       "  </tbody>\n",
       "</table>\n",
       "</div>"
      ],
      "text/plain": [
       "                      Team  EPLPoints  MCPoints\n",
       "0           ManchesterCity         91        88\n",
       "1                  Arsenal         89        95\n",
       "2                Liverpool         82        79\n",
       "3               AstonVilla         68        59\n",
       "4         TottenhamHotspur         66        63\n",
       "5                  Chelsea         63        67\n",
       "6         ManchesterUnited         60        44\n",
       "7          NewcastleUnited         60        54\n",
       "8            WestHamUnited         52        39\n",
       "9            CrystalPalace         49        43\n",
       "10   BrightonandHoveAlbion         48        38\n",
       "11             Bournemouth         48        47\n",
       "12                 Everton         48        51\n",
       "13                  Fulham         47        51\n",
       "14  WolverhamptonWanderers         46        50\n",
       "15               Brentford         39        26\n",
       "16        NottinghamForest         36        39\n",
       "17               LutonTown         26        20\n",
       "18                 Burnley         24        16\n",
       "19         SheffieldUnited         16        17"
      ]
     },
     "execution_count": 21,
     "metadata": {},
     "output_type": "execute_result"
    }
   ],
   "source": [
    "final_table"
   ]
  },
  {
   "cell_type": "markdown",
   "id": "2fe2c817",
   "metadata": {},
   "source": [
    "### Model R square"
   ]
  },
  {
   "cell_type": "code",
   "execution_count": 23,
   "id": "0d449632",
   "metadata": {},
   "outputs": [
    {
     "data": {
      "text/plain": [
       "0.8613290797293472"
      ]
     },
     "execution_count": 23,
     "metadata": {},
     "output_type": "execute_result"
    }
   ],
   "source": [
    "from sklearn.metrics import r2_score\n",
    "r2_score(final_table['EPLPoints'], final_table['MCPoints'])"
   ]
  },
  {
   "cell_type": "markdown",
   "id": "7934942e",
   "metadata": {},
   "source": [
    "The R-squared score for the model is 0.86, indicating a strong correlation between the predicted points and the actual points. This score suggests that **86% of the variability** in the actual points can be explained by the model's predictions."
   ]
  }
 ],
 "metadata": {
  "kernelspec": {
   "display_name": "Python 3",
   "language": "python",
   "name": "python3"
  },
  "language_info": {
   "codemirror_mode": {
    "name": "ipython",
    "version": 3
   },
   "file_extension": ".py",
   "mimetype": "text/x-python",
   "name": "python",
   "nbconvert_exporter": "python",
   "pygments_lexer": "ipython3",
   "version": "3.8.8"
  }
 },
 "nbformat": 4,
 "nbformat_minor": 5
}
